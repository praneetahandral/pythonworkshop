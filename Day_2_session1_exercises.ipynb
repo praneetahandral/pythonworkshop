{
  "nbformat": 4,
  "nbformat_minor": 0,
  "metadata": {
    "colab": {
      "name": "Day 2_session1_exercises.ipynb",
      "provenance": [],
      "collapsed_sections": [],
      "authorship_tag": "ABX9TyOaftG3ewTGM7BSD5nrWxaL",
      "include_colab_link": true
    },
    "kernelspec": {
      "name": "python3",
      "display_name": "Python 3"
    }
  },
  "cells": [
    {
      "cell_type": "markdown",
      "metadata": {
        "id": "view-in-github",
        "colab_type": "text"
      },
      "source": [
        "<a href=\"https://colab.research.google.com/github/praneetahandral/pythonworkshop/blob/master/Day_2_session1_exercises.ipynb\" target=\"_parent\"><img src=\"https://colab.research.google.com/assets/colab-badge.svg\" alt=\"Open In Colab\"/></a>"
      ]
    },
    {
      "cell_type": "markdown",
      "metadata": {
        "id": "lCC6jPaeQPie",
        "colab_type": "text"
      },
      "source": [
        "#print multiples of 3 upto 200 using a list"
      ]
    },
    {
      "cell_type": "code",
      "metadata": {
        "id": "xVED6pKvQg2G",
        "colab_type": "code",
        "colab": {
          "base_uri": "https://localhost:8080/",
          "height": 34
        },
        "outputId": "b737437d-84de-4dc5-9eae-c195a496dc15"
      },
      "source": [
        "def countMultiples(n): \n",
        "    res = 0; \n",
        "    for i in range(1, n + 1): \n",
        "        if (i % 3 == 0 or i % 7 == 0): \n",
        "            res += 1; \n",
        "   \n",
        "    return res; \n",
        "  \n",
        "# Driver code \n",
        "print(\"Count =\", countMultiples(25)); "
      ],
      "execution_count": 1,
      "outputs": [
        {
          "output_type": "stream",
          "text": [
            "Count = 10\n"
          ],
          "name": "stdout"
        }
      ]
    },
    {
      "cell_type": "markdown",
      "metadata": {
        "id": "vhfvrC79QoGj",
        "colab_type": "text"
      },
      "source": [
        "#print the nos only divisable by 5 and 7 between 1000 and 2000 using a list( both inclusive)"
      ]
    },
    {
      "cell_type": "code",
      "metadata": {
        "id": "SnsjKLNfQsm_",
        "colab_type": "code",
        "colab": {
          "base_uri": "https://localhost:8080/",
          "height": 34
        },
        "outputId": "891a476f-3130-4c42-bdf7-d39cc1fe6473"
      },
      "source": [
        "# Python program to print all the numbers \n",
        "# divisible by 3 and 5 for a given number \n",
        "\n",
        "# Result function with N \n",
        "def result(N): \n",
        "\t\n",
        "\t# iterate from 0 to N \n",
        "\tfor num in range(N): \n",
        "\t\t\n",
        "\t\t\t# Short-circuit operator is used \n",
        "\t\t\tif num % 3 == 0 and num % 5 == 0: \n",
        "\t\t\t\tprint(str(num) + \" \", end = \"\") \n",
        "\t\t\t\t\n",
        "\t\t\telse: \n",
        "\t\t\t\tpass\n",
        "\n",
        "# Driver code \n",
        "if __name__ == \"__main__\": \n",
        "\t\n",
        "\t# input goes here \n",
        "\tN = 100\n",
        "\t\n",
        "\t# Calling function \n",
        "\tresult(N) \n"
      ],
      "execution_count": 2,
      "outputs": [
        {
          "output_type": "stream",
          "text": [
            "0 15 30 45 60 75 90 "
          ],
          "name": "stdout"
        }
      ]
    },
    {
      "cell_type": "markdown",
      "metadata": {
        "id": "EYePuTkgRJnD",
        "colab_type": "text"
      },
      "source": [
        "#Add the n number of names in a list and print them alphabetically and reverse alphabetically."
      ]
    },
    {
      "cell_type": "code",
      "metadata": {
        "id": "mcn0rQxcRuaY",
        "colab_type": "code",
        "colab": {
          "base_uri": "https://localhost:8080/",
          "height": 170
        },
        "outputId": "53fbd304-3a57-4e60-f910-3d1885874aa7"
      },
      "source": [
        "# Program to sort alphabetically the words form a string provided by the user\n",
        "\n",
        "my_str = \"Hello this Is an Example With cased letters\"\n",
        "\n",
        "# To take input from the user\n",
        "#my_str = input(\"Enter a string: \")\n",
        "\n",
        "# breakdown the string into a list of words\n",
        "words = my_str.split()\n",
        "\n",
        "# sort the list\n",
        "words.sort()\n",
        "\n",
        "# display the sorted words\n",
        "\n",
        "print(\"The sorted words are:\")\n",
        "for word in words:\n",
        "   print(word)\n"
      ],
      "execution_count": 3,
      "outputs": [
        {
          "output_type": "stream",
          "text": [
            "The sorted words are:\n",
            "Example\n",
            "Hello\n",
            "Is\n",
            "With\n",
            "an\n",
            "cased\n",
            "letters\n",
            "this\n"
          ],
          "name": "stdout"
        }
      ]
    },
    {
      "cell_type": "markdown",
      "metadata": {
        "id": "BIpgwVgoRyy3",
        "colab_type": "text"
      },
      "source": [
        "#Print  perfect squares and divisible by 5 between 500 and 1000( (both inclusive) using list\n",
        "\n"
      ]
    },
    {
      "cell_type": "code",
      "metadata": {
        "id": "6rFHETNzS7xr",
        "colab_type": "code",
        "colab": {
          "base_uri": "https://localhost:8080/",
          "height": 34
        },
        "outputId": "da46e704-b171-4cad-eeb7-c7667d94492a"
      },
      "source": [
        "def squares(a, b):\n",
        "    lists=[]\n",
        "    # Traverse through all numbers\n",
        "    for i in range (a,b+1):\n",
        "        j = 1;\n",
        "        while j*j <= i:\n",
        "            if j*j == i:\n",
        "                 lists.append(i)  \n",
        "            j = j+1\n",
        "        i = i+1\n",
        "    return lists\n",
        "print(squares(5, 500))"
      ],
      "execution_count": 8,
      "outputs": [
        {
          "output_type": "stream",
          "text": [
            "[9, 16, 25, 36, 49, 64, 81, 100, 121, 144, 169, 196, 225, 256, 289, 324, 361, 400, 441, 484]\n"
          ],
          "name": "stdout"
        }
      ]
    },
    {
      "cell_type": "markdown",
      "metadata": {
        "id": "u366qrkPTEbO",
        "colab_type": "text"
      },
      "source": [
        "#Calculate the Average of  the numbers in a List by getting the elements of list from keyboard .\n",
        "\n"
      ]
    },
    {
      "cell_type": "code",
      "metadata": {
        "id": "X2OZtXM9Tnyc",
        "colab_type": "code",
        "colab": {
          "base_uri": "https://localhost:8080/",
          "height": 85
        },
        "outputId": "35732d30-6cad-40cb-da7e-121111c6d458"
      },
      "source": [
        "n=int(input(\"Enter the number of elements to be inserted: \"))\n",
        "a=[]\n",
        "for i in range(0,n):\n",
        "    elem=int(input(\"Enter element: \"))\n",
        "    a.append(elem)\n",
        "avg=sum(a)/n\n",
        "print(\"Average of elements in the list\",round(avg,2))"
      ],
      "execution_count": 9,
      "outputs": [
        {
          "output_type": "stream",
          "text": [
            "Enter the number of elements to be inserted: 2\n",
            "Enter element: 23\n",
            "Enter element: 26\n",
            "Average of elements in the list 24.5\n"
          ],
          "name": "stdout"
        }
      ]
    },
    {
      "cell_type": "markdown",
      "metadata": {
        "id": "FGcfdeaG8xSC",
        "colab_type": "text"
      },
      "source": [
        "#Tuple exercises"
      ]
    },
    {
      "cell_type": "markdown",
      "metadata": {
        "id": "qwbG_kEI81vX",
        "colab_type": "text"
      },
      "source": [
        "#Python Program to Create a List of Tuples with the First Element as the Number and Second Element as the Square of the Number "
      ]
    },
    {
      "cell_type": "code",
      "metadata": {
        "id": "0Sy8GQAg85VE",
        "colab_type": "code",
        "colab": {
          "base_uri": "https://localhost:8080/",
          "height": 34
        },
        "outputId": "7f743423-f731-4ddf-e67a-b41f7a579877"
      },
      "source": [
        "list1 = [1, 2, 5, 6] \n",
        "  \n",
        "# using list comprehension to iterate each \n",
        "# values in list and create a tuple as specified \n",
        "res = [(val, pow(val, 3)) for val in list1] \n",
        "  \n",
        "# print the result \n",
        "print(res)"
      ],
      "execution_count": 3,
      "outputs": [
        {
          "output_type": "stream",
          "text": [
            "[(1, 1), (2, 8), (5, 125), (6, 216)]\n"
          ],
          "name": "stdout"
        }
      ]
    },
    {
      "cell_type": "markdown",
      "metadata": {
        "id": "VPEiVPfB9BOO",
        "colab_type": "text"
      },
      "source": [
        "#Write python program to have a list of words  to sort them from  shortest to longest using list of tuples"
      ]
    },
    {
      "cell_type": "code",
      "metadata": {
        "id": "WvtNPGMP9E0w",
        "colab_type": "code",
        "colab": {
          "base_uri": "https://localhost:8080/",
          "height": 51
        },
        "outputId": "ec8fbc45-05ab-48a1-f201-fc9c9eb18d02"
      },
      "source": [
        "# get the last key. \n",
        "def last(n): \n",
        "    return n[m]   \n",
        "   \n",
        "# function to sort the tuple    \n",
        "def sort(tuples): \n",
        "  \n",
        "    # We pass used defined function last \n",
        "    # as a parameter.  \n",
        "    return sorted(tuples, key = last) \n",
        "   \n",
        "# driver code   \n",
        "a = [(23, 45, 20), (25, 44, 39), (89, 40, 23)] \n",
        "m = 2\n",
        "print(\"Sorted:\"), \n",
        "print(sort(a)) "
      ],
      "execution_count": 4,
      "outputs": [
        {
          "output_type": "stream",
          "text": [
            "Sorted:\n",
            "[(23, 45, 20), (89, 40, 23), (25, 44, 39)]\n"
          ],
          "name": "stdout"
        }
      ]
    },
    {
      "cell_type": "markdown",
      "metadata": {
        "id": "e5MKc3go9nNh",
        "colab_type": "text"
      },
      "source": [
        "#Write python program to get a list of tuples of Rollno,Name for 5 students through keyboard and sort them Rollno wise ascending order"
      ]
    },
    {
      "cell_type": "code",
      "metadata": {
        "id": "-kRP3X_G-wxt",
        "colab_type": "code",
        "colab": {
          "base_uri": "https://localhost:8080/",
          "height": 34
        },
        "outputId": "ad2bbfd9-68bd-4a89-f985-8deb72130c6f"
      },
      "source": [
        "def Sort_Tuple(tup):  \n",
        "  \n",
        "    # reverse = None (Sorts in Ascending order)  \n",
        "    # key is set to sort using second element of  \n",
        "    # sublist lambda has been used  \n",
        "    tup.sort(key = lambda x: x[1])  \n",
        "    return tup  \n",
        "  \n",
        "# Driver Code  \n",
        "tup = [('rishav', 10), ('akash', 5), ('ram', 20), ('gaurav', 15)]  \n",
        "  \n",
        "# printing the sorted list of tuples \n",
        "print(Sort_Tuple(tup))  "
      ],
      "execution_count": 5,
      "outputs": [
        {
          "output_type": "stream",
          "text": [
            "[('akash', 5), ('rishav', 10), ('gaurav', 15), ('ram', 20)]\n"
          ],
          "name": "stdout"
        }
      ]
    }
  ]
}