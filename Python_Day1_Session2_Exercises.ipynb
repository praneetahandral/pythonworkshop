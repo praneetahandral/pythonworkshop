{
  "nbformat": 4,
  "nbformat_minor": 0,
  "metadata": {
    "colab": {
      "name": "Python_Day1_Session2_Exercises.ipynb",
      "provenance": [],
      "collapsed_sections": [],
      "authorship_tag": "ABX9TyPv90iTGGl6bDHuzlUFQr5Q",
      "include_colab_link": true
    },
    "kernelspec": {
      "name": "python3",
      "display_name": "Python 3"
    }
  },
  "cells": [
    {
      "cell_type": "markdown",
      "metadata": {
        "id": "view-in-github",
        "colab_type": "text"
      },
      "source": [
        "<a href=\"https://colab.research.google.com/github/praneetahandral/pythonworkshop/blob/master/Python_Day1_Session2_Exercises.ipynb\" target=\"_parent\"><img src=\"https://colab.research.google.com/assets/colab-badge.svg\" alt=\"Open In Colab\"/></a>"
      ]
    },
    {
      "cell_type": "markdown",
      "metadata": {
        "id": "cteeiXUx_JMs",
        "colab_type": "text"
      },
      "source": [
        "#Write a program to print the triangle \n",
        "i/p  4\n"
      ]
    },
    {
      "cell_type": "code",
      "metadata": {
        "id": "LT0qyzWN_Nxv",
        "colab_type": "code",
        "colab": {
          "base_uri": "https://localhost:8080/",
          "height": 85
        },
        "outputId": "d85a87bf-43f6-4921-e489-0c636b1fd520"
      },
      "source": [
        "\n",
        "def numpat(n): \n",
        "      \n",
        "    # initialising starting number  \n",
        "    num = 1\n",
        "  \n",
        "    # outer loop to handle number of rows \n",
        "    for i in range(0, n): \n",
        "      \n",
        "        # re assigning num \n",
        "        num = 1\n",
        "      \n",
        "        # inner loop to handle number of columns \n",
        "            # values changing acc. to outer loop \n",
        "        for j in range(0, i+1): \n",
        "          \n",
        "                # printing number \n",
        "            print(num, end=\" \") \n",
        "          \n",
        "            # incrementing number at each column \n",
        "            num = num + 1\n",
        "      \n",
        "        # ending line after each row \n",
        "        print(\"\\r\") \n",
        "  \n",
        "# Driver code \n",
        "n = 4\n",
        "numpat(n) "
      ],
      "execution_count": 5,
      "outputs": [
        {
          "output_type": "stream",
          "text": [
            "1 \r\n",
            "1 2 \r\n",
            "1 2 3 \r\n",
            "1 2 3 4 \r\n"
          ],
          "name": "stdout"
        }
      ]
    },
    {
      "cell_type": "markdown",
      "metadata": {
        "id": "gO4ujk9s_i5W",
        "colab_type": "text"
      },
      "source": [
        "2 Enter number 4"
      ]
    },
    {
      "cell_type": "code",
      "metadata": {
        "id": "I7bOHLcMBLGh",
        "colab_type": "code",
        "colab": {
          "base_uri": "https://localhost:8080/",
          "height": 85
        },
        "outputId": "3994597e-6387-4683-81b4-bac0554dae55"
      },
      "source": [
        "def pypart(n): \n",
        "      \n",
        "    # outer loop to handle number of rows \n",
        "    # n in this case \n",
        "    for i in range(0, n): \n",
        "      \n",
        "        # inner loop to handle number of columns \n",
        "        # values changing acc. to outer loop \n",
        "        for j in range(0, i+1): \n",
        "          \n",
        "            # printing stars \n",
        "            print(\"* \",end=\"\") \n",
        "       \n",
        "        # ending line after each row \n",
        "        print(\"\\r\") \n",
        "  \n",
        "# Driver Code \n",
        "n = 4\n",
        "pypart(n) "
      ],
      "execution_count": 7,
      "outputs": [
        {
          "output_type": "stream",
          "text": [
            "* \r\n",
            "* * \r\n",
            "* * * \r\n",
            "* * * * \r\n"
          ],
          "name": "stdout"
        }
      ]
    },
    {
      "cell_type": "markdown",
      "metadata": {
        "id": "y45oF9QUCUOO",
        "colab_type": "text"
      },
      "source": [
        "#Find the length of a string without using len functions"
      ]
    },
    {
      "cell_type": "code",
      "metadata": {
        "id": "DCNdubOPCZT1",
        "colab_type": "code",
        "colab": {
          "base_uri": "https://localhost:8080/",
          "height": 34
        },
        "outputId": "19c2c2bd-cb8d-42a4-d4dd-7f8d26b7f36a"
      },
      "source": [
        "# Function which return length of string \n",
        "def findLength(string): \n",
        "  \n",
        "    # Initialize count to zero \n",
        "    count = 0\n",
        "  \n",
        "    # Counting character in a string \n",
        "    for i in string: \n",
        "        count+= 1\n",
        "    # Returning count \n",
        "    return count \n",
        "  \n",
        "# Driver code \n",
        "string = \"Praneetahandral\"\n",
        "print(findLength(string)) "
      ],
      "execution_count": 9,
      "outputs": [
        {
          "output_type": "stream",
          "text": [
            "15\n"
          ],
          "name": "stdout"
        }
      ]
    },
    {
      "cell_type": "markdown",
      "metadata": {
        "id": "tA9zNeGaCrM-",
        "colab_type": "text"
      },
      "source": [
        "#Find the no of words and characters in a string\n",
        "\n"
      ]
    },
    {
      "cell_type": "code",
      "metadata": {
        "id": "L5WHe_u8C9MD",
        "colab_type": "code",
        "colab": {
          "base_uri": "https://localhost:8080/",
          "height": 34
        },
        "outputId": "08c1eee4-b4e7-4d18-9b61-0f1b7456bf18"
      },
      "source": [
        "# Python3 program to count words \n",
        "# in a given string \n",
        "OUT = 0\n",
        "IN = 1\n",
        "\n",
        "# Returns number of words in string \n",
        "def countWords(string): \n",
        "\tstate = OUT \n",
        "\twc = 0\n",
        "\n",
        "\t# Scan all characters one by one \n",
        "\tfor i in range(len(string)): \n",
        "\n",
        "\t\t# If next character is a separator, \n",
        "\t\t# set the state as OUT \n",
        "\t\tif (string[i] == ' ' or string[i] == '\\n' or\n",
        "\t\t\tstring[i] == '\\t'): \n",
        "\t\t\tstate = OUT \n",
        "\n",
        "\t\t# If next character is not a word \n",
        "\t\t# separator and state is OUT, then \n",
        "\t\t# set the state as IN and increment \n",
        "\t\t# word count \n",
        "\t\telif state == OUT: \n",
        "\t\t\tstate = IN \n",
        "\t\t\twc += 1\n",
        "\n",
        "\t# Return the number of words \n",
        "\treturn wc \n",
        "\n",
        "# Driver Code \n",
        "string = \"One two\t\t three\\n four\\tfive \"\n",
        "print(\"No. of words : \" + str(countWords(string))) \n",
        "\n"
      ],
      "execution_count": 10,
      "outputs": [
        {
          "output_type": "stream",
          "text": [
            "No. of words : 5\n"
          ],
          "name": "stdout"
        }
      ]
    }
  ]
}